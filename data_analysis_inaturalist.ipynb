{
 "cells": [
  {
   "cell_type": "markdown",
   "metadata": {
    "run_control": {
     "frozen": false,
     "read_only": false
    }
   },
   "source": [
    "<center> \n",
    "    <b>\n",
    "        <big>\n",
    "            Exploratory Data analysis of our data on [inaturalist](http://www.inaturalist.org)\n",
    "        </big>\n",
    "    </b>\n",
    "</center> "
   ]
  },
  {
   "cell_type": "code",
   "execution_count": 2,
   "metadata": {
    "collapsed": true
   },
   "outputs": [],
   "source": [
    "import pandas as pd\n",
    "import numpy as np\n",
    "import matplotlib.pyplot as plt\n",
    "import seaborn as sns\n",
    "\n",
    "import powerlaw\n",
    "\n",
    "sns.set_context('notebook')\n",
    "%matplotlib inline\n",
    "%config InlineBackend.figure_format = 'retina'"
   ]
  },
  {
   "cell_type": "markdown",
   "metadata": {},
   "source": [
    "# Data wrangling"
   ]
  },
  {
   "cell_type": "code",
   "execution_count": 20,
   "metadata": {
    "collapsed": false
   },
   "outputs": [
    {
     "name": "stdout",
     "output_type": "stream",
     "text": [
      "(208, 41)\n"
     ]
    },
    {
     "data": {
      "text/html": [
       "<div>\n",
       "<table border=\"1\" class=\"dataframe\">\n",
       "  <thead>\n",
       "    <tr style=\"text-align: right;\">\n",
       "      <th></th>\n",
       "      <th>id</th>\n",
       "      <th>observed_on_string</th>\n",
       "      <th>observed_on</th>\n",
       "      <th>time_observed_at</th>\n",
       "      <th>time_zone</th>\n",
       "      <th>out_of_range</th>\n",
       "      <th>user_id</th>\n",
       "      <th>user_login</th>\n",
       "      <th>created_at</th>\n",
       "      <th>updated_at</th>\n",
       "      <th>...</th>\n",
       "      <th>iconic_taxon_name</th>\n",
       "      <th>taxon_id</th>\n",
       "      <th>field:how do you rate the level of hygiene of the market place</th>\n",
       "      <th>field:what is the common name of the product in english</th>\n",
       "      <th>field:what is the geographical origin of the product: local, national or international</th>\n",
       "      <th>field:what is the local name of the product</th>\n",
       "      <th>field:what is the name of the food market you are visiting</th>\n",
       "      <th>field:what is the nutritional value and/or health benefits (health claims) of the product</th>\n",
       "      <th>field:what is the price of the product</th>\n",
       "      <th>field:what is the scientific name of the product</th>\n",
       "    </tr>\n",
       "  </thead>\n",
       "  <tbody>\n",
       "    <tr>\n",
       "      <th>0</th>\n",
       "      <td>56961</td>\n",
       "      <td>March 01, 2012 14:15</td>\n",
       "      <td>2012-03-01</td>\n",
       "      <td>2012-03-01 14:15:00 -0500</td>\n",
       "      <td>Eastern Time (US &amp; Canada)</td>\n",
       "      <td>False</td>\n",
       "      <td>1000</td>\n",
       "      <td>muir</td>\n",
       "      <td>2012-03-10 19:04:00 -0500</td>\n",
       "      <td>2016-12-19 12:58:08 -0500</td>\n",
       "      <td>...</td>\n",
       "      <td>Mammalia</td>\n",
       "      <td>44181.0</td>\n",
       "      <td>NaN</td>\n",
       "      <td>NaN</td>\n",
       "      <td>NaN</td>\n",
       "      <td>NaN</td>\n",
       "      <td>NaN</td>\n",
       "      <td>NaN</td>\n",
       "      <td>NaN</td>\n",
       "      <td>NaN</td>\n",
       "    </tr>\n",
       "    <tr>\n",
       "      <th>1</th>\n",
       "      <td>56964</td>\n",
       "      <td>March 01, 2012 14:14</td>\n",
       "      <td>2012-03-01</td>\n",
       "      <td>2012-03-01 14:14:00 -0500</td>\n",
       "      <td>Eastern Time (US &amp; Canada)</td>\n",
       "      <td>False</td>\n",
       "      <td>1000</td>\n",
       "      <td>muir</td>\n",
       "      <td>2012-03-10 19:04:01 -0500</td>\n",
       "      <td>2016-12-19 12:56:46 -0500</td>\n",
       "      <td>...</td>\n",
       "      <td>Mammalia</td>\n",
       "      <td>43485.0</td>\n",
       "      <td>NaN</td>\n",
       "      <td>NaN</td>\n",
       "      <td>NaN</td>\n",
       "      <td>NaN</td>\n",
       "      <td>NaN</td>\n",
       "      <td>NaN</td>\n",
       "      <td>NaN</td>\n",
       "      <td>NaN</td>\n",
       "    </tr>\n",
       "    <tr>\n",
       "      <th>2</th>\n",
       "      <td>77056</td>\n",
       "      <td>2010-10-17</td>\n",
       "      <td>2010-10-17</td>\n",
       "      <td>NaN</td>\n",
       "      <td>Pacific Time (US &amp; Canada)</td>\n",
       "      <td>False</td>\n",
       "      <td>6581</td>\n",
       "      <td>akrohn</td>\n",
       "      <td>2012-05-10 17:49:53 -0400</td>\n",
       "      <td>2017-02-04 06:03:33 -0500</td>\n",
       "      <td>...</td>\n",
       "      <td>Reptilia</td>\n",
       "      <td>30882.0</td>\n",
       "      <td>NaN</td>\n",
       "      <td>NaN</td>\n",
       "      <td>NaN</td>\n",
       "      <td>NaN</td>\n",
       "      <td>NaN</td>\n",
       "      <td>NaN</td>\n",
       "      <td>NaN</td>\n",
       "      <td>NaN</td>\n",
       "    </tr>\n",
       "    <tr>\n",
       "      <th>3</th>\n",
       "      <td>456868</td>\n",
       "      <td>2013-06-05</td>\n",
       "      <td>2013-06-05</td>\n",
       "      <td>NaN</td>\n",
       "      <td>Central Time (US &amp; Canada)</td>\n",
       "      <td>NaN</td>\n",
       "      <td>1639</td>\n",
       "      <td>tonyg</td>\n",
       "      <td>2013-11-14 09:55:48 -0500</td>\n",
       "      <td>2016-12-19 12:52:26 -0500</td>\n",
       "      <td>...</td>\n",
       "      <td>Insecta</td>\n",
       "      <td>326866.0</td>\n",
       "      <td>NaN</td>\n",
       "      <td>NaN</td>\n",
       "      <td>NaN</td>\n",
       "      <td>NaN</td>\n",
       "      <td>NaN</td>\n",
       "      <td>NaN</td>\n",
       "      <td>NaN</td>\n",
       "      <td>NaN</td>\n",
       "    </tr>\n",
       "    <tr>\n",
       "      <th>4</th>\n",
       "      <td>481944</td>\n",
       "      <td>2013-06-21</td>\n",
       "      <td>2013-06-21</td>\n",
       "      <td>NaN</td>\n",
       "      <td>Central Time (US &amp; Canada)</td>\n",
       "      <td>NaN</td>\n",
       "      <td>1639</td>\n",
       "      <td>tonyg</td>\n",
       "      <td>2013-12-15 16:59:19 -0500</td>\n",
       "      <td>2016-12-20 04:22:50 -0500</td>\n",
       "      <td>...</td>\n",
       "      <td>Insecta</td>\n",
       "      <td>71220.0</td>\n",
       "      <td>NaN</td>\n",
       "      <td>NaN</td>\n",
       "      <td>NaN</td>\n",
       "      <td>NaN</td>\n",
       "      <td>NaN</td>\n",
       "      <td>NaN</td>\n",
       "      <td>NaN</td>\n",
       "      <td>NaN</td>\n",
       "    </tr>\n",
       "  </tbody>\n",
       "</table>\n",
       "<p>5 rows × 41 columns</p>\n",
       "</div>"
      ],
      "text/plain": [
       "       id    observed_on_string observed_on           time_observed_at  \\\n",
       "0   56961  March 01, 2012 14:15  2012-03-01  2012-03-01 14:15:00 -0500   \n",
       "1   56964  March 01, 2012 14:14  2012-03-01  2012-03-01 14:14:00 -0500   \n",
       "2   77056            2010-10-17  2010-10-17                        NaN   \n",
       "3  456868            2013-06-05  2013-06-05                        NaN   \n",
       "4  481944            2013-06-21  2013-06-21                        NaN   \n",
       "\n",
       "                    time_zone out_of_range  user_id user_login  \\\n",
       "0  Eastern Time (US & Canada)        False     1000       muir   \n",
       "1  Eastern Time (US & Canada)        False     1000       muir   \n",
       "2  Pacific Time (US & Canada)        False     6581     akrohn   \n",
       "3  Central Time (US & Canada)          NaN     1639      tonyg   \n",
       "4  Central Time (US & Canada)          NaN     1639      tonyg   \n",
       "\n",
       "                  created_at                 updated_at  \\\n",
       "0  2012-03-10 19:04:00 -0500  2016-12-19 12:58:08 -0500   \n",
       "1  2012-03-10 19:04:01 -0500  2016-12-19 12:56:46 -0500   \n",
       "2  2012-05-10 17:49:53 -0400  2017-02-04 06:03:33 -0500   \n",
       "3  2013-11-14 09:55:48 -0500  2016-12-19 12:52:26 -0500   \n",
       "4  2013-12-15 16:59:19 -0500  2016-12-20 04:22:50 -0500   \n",
       "\n",
       "                        ...                        iconic_taxon_name  \\\n",
       "0                       ...                                 Mammalia   \n",
       "1                       ...                                 Mammalia   \n",
       "2                       ...                                 Reptilia   \n",
       "3                       ...                                  Insecta   \n",
       "4                       ...                                  Insecta   \n",
       "\n",
       "   taxon_id field:how do you rate the level of hygiene of the market place  \\\n",
       "0   44181.0                                                NaN               \n",
       "1   43485.0                                                NaN               \n",
       "2   30882.0                                                NaN               \n",
       "3  326866.0                                                NaN               \n",
       "4   71220.0                                                NaN               \n",
       "\n",
       "  field:what is the common name of the product in english  \\\n",
       "0                                                NaN        \n",
       "1                                                NaN        \n",
       "2                                                NaN        \n",
       "3                                                NaN        \n",
       "4                                                NaN        \n",
       "\n",
       "  field:what is the geographical origin of the product: local, national or international   \\\n",
       "0                                                NaN                                        \n",
       "1                                                NaN                                        \n",
       "2                                                NaN                                        \n",
       "3                                                NaN                                        \n",
       "4                                                NaN                                        \n",
       "\n",
       "  field:what is the local name of the product  \\\n",
       "0                                         NaN   \n",
       "1                                         NaN   \n",
       "2                                         NaN   \n",
       "3                                         NaN   \n",
       "4                                         NaN   \n",
       "\n",
       "  field:what is the name of the food market you are visiting  \\\n",
       "0                                                NaN           \n",
       "1                                                NaN           \n",
       "2                                                NaN           \n",
       "3                                                NaN           \n",
       "4                                                NaN           \n",
       "\n",
       "   field:what is the nutritional value and/or health benefits (health claims) of the product  \\\n",
       "0                                                NaN                                           \n",
       "1                                                NaN                                           \n",
       "2                                                NaN                                           \n",
       "3                                                NaN                                           \n",
       "4                                                NaN                                           \n",
       "\n",
       "   field:what is the price of the product  \\\n",
       "0                                     NaN   \n",
       "1                                     NaN   \n",
       "2                                     NaN   \n",
       "3                                     NaN   \n",
       "4                                     NaN   \n",
       "\n",
       "  field:what is the scientific name of the product  \n",
       "0                                              NaN  \n",
       "1                                              NaN  \n",
       "2                                              NaN  \n",
       "3                                              NaN  \n",
       "4                                              NaN  \n",
       "\n",
       "[5 rows x 41 columns]"
      ]
     },
     "execution_count": 20,
     "metadata": {},
     "output_type": "execute_result"
    }
   ],
   "source": [
    "first_dump = pd.read_csv('./inaturalist_dump.csv')\n",
    "print(first_dump.shape)\n",
    "first_dump.head()"
   ]
  },
  {
   "cell_type": "code",
   "execution_count": 48,
   "metadata": {
    "collapsed": false
   },
   "outputs": [],
   "source": [
    "# first_dump.scientific_name.unique()"
   ]
  },
  {
   "cell_type": "code",
   "execution_count": 50,
   "metadata": {
    "cell_style": "center",
    "collapsed": false
   },
   "outputs": [
    {
     "data": {
      "text/plain": [
       "id                                                                                           208\n",
       "observed_on_string                                                                           179\n",
       "observed_on                                                                                  178\n",
       "time_observed_at                                                                              16\n",
       "time_zone                                                                                    208\n",
       "out_of_range                                                                                  14\n",
       "user_id                                                                                      208\n",
       "user_login                                                                                   208\n",
       "created_at                                                                                   208\n",
       "updated_at                                                                                   208\n",
       "quality_grade                                                                                208\n",
       "license                                                                                      197\n",
       "url                                                                                          208\n",
       "image_url                                                                                    208\n",
       "tag_list                                                                                      11\n",
       "description                                                                                  184\n",
       "id_please                                                                                    208\n",
       "num_identification_agreements                                                                208\n",
       "num_identification_disagreements                                                             208\n",
       "captive_cultivated                                                                           208\n",
       "oauth_application_id                                                                           2\n",
       "place_guess                                                                                  206\n",
       "latitude                                                                                     207\n",
       "longitude                                                                                    207\n",
       "positional_accuracy                                                                           97\n",
       "geoprivacy                                                                                     0\n",
       "positioning_method                                                                             2\n",
       "positioning_device                                                                            13\n",
       "species_guess                                                                                206\n",
       "scientific_name                                                                              204\n",
       "common_name                                                                                  190\n",
       "iconic_taxon_name                                                                            205\n",
       "taxon_id                                                                                     205\n",
       "field:how do you rate the level of hygiene of the market place                                 0\n",
       "field:what is the common name of the product in english                                        0\n",
       "field:what is the geographical origin of the product: local, national or international         0\n",
       "field:what is the local name of the product                                                    0\n",
       "field:what is the name of the food market you are visiting                                     0\n",
       "field:what is the nutritional value and/or health benefits (health claims) of the product      0\n",
       "field:what is the price of the product                                                         0\n",
       "field:what is the scientific name of the product                                               0\n",
       "dtype: int64"
      ]
     },
     "execution_count": 50,
     "metadata": {},
     "output_type": "execute_result"
    }
   ],
   "source": [
    "first_dump.notnull().sum()"
   ]
  },
  {
   "cell_type": "code",
   "execution_count": 15,
   "metadata": {
    "cell_style": "center",
    "collapsed": false
   },
   "outputs": [],
   "source": [
    "# first_dump.dtypes"
   ]
  },
  {
   "cell_type": "markdown",
   "metadata": {},
   "source": [
    "###   json exporting   of useful features "
   ]
  },
  {
   "cell_type": "code",
   "execution_count": 53,
   "metadata": {
    "collapsed": true
   },
   "outputs": [],
   "source": [
    "website_dataset = first_dump[['id','user_login','observed_on',\n",
    "                              'image_url','latitude',\n",
    "                             'longitude','common_name']]"
   ]
  },
  {
   "cell_type": "code",
   "execution_count": 54,
   "metadata": {
    "collapsed": false
   },
   "outputs": [
    {
     "data": {
      "text/html": [
       "<div>\n",
       "<table border=\"1\" class=\"dataframe\">\n",
       "  <thead>\n",
       "    <tr style=\"text-align: right;\">\n",
       "      <th></th>\n",
       "      <th>id</th>\n",
       "      <th>user_login</th>\n",
       "      <th>observed_on</th>\n",
       "      <th>image_url</th>\n",
       "      <th>latitude</th>\n",
       "      <th>longitude</th>\n",
       "      <th>common_name</th>\n",
       "    </tr>\n",
       "  </thead>\n",
       "  <tbody>\n",
       "    <tr>\n",
       "      <th>0</th>\n",
       "      <td>56961</td>\n",
       "      <td>muir</td>\n",
       "      <td>2012-03-01</td>\n",
       "      <td>https://static.inaturalist.org/photos/88639/me...</td>\n",
       "      <td>1.854370</td>\n",
       "      <td>10.052250</td>\n",
       "      <td>African Brush-tailed Porcupine</td>\n",
       "    </tr>\n",
       "    <tr>\n",
       "      <th>1</th>\n",
       "      <td>56964</td>\n",
       "      <td>muir</td>\n",
       "      <td>2012-03-01</td>\n",
       "      <td>https://static.inaturalist.org/photos/88646/me...</td>\n",
       "      <td>1.854370</td>\n",
       "      <td>10.052250</td>\n",
       "      <td>Putty-nosed Monkey</td>\n",
       "    </tr>\n",
       "    <tr>\n",
       "      <th>2</th>\n",
       "      <td>77056</td>\n",
       "      <td>akrohn</td>\n",
       "      <td>2010-10-17</td>\n",
       "      <td>https://static.inaturalist.org/photos/114209/m...</td>\n",
       "      <td>5.769016</td>\n",
       "      <td>-7.179026</td>\n",
       "      <td>Green Bush Viper</td>\n",
       "    </tr>\n",
       "    <tr>\n",
       "      <th>3</th>\n",
       "      <td>456868</td>\n",
       "      <td>tonyg</td>\n",
       "      <td>2013-06-05</td>\n",
       "      <td>https://static.inaturalist.org/photos/576493/m...</td>\n",
       "      <td>16.387541</td>\n",
       "      <td>121.112396</td>\n",
       "      <td>NaN</td>\n",
       "    </tr>\n",
       "    <tr>\n",
       "      <th>4</th>\n",
       "      <td>481944</td>\n",
       "      <td>tonyg</td>\n",
       "      <td>2013-06-21</td>\n",
       "      <td>https://static.inaturalist.org/photos/609362/m...</td>\n",
       "      <td>16.387541</td>\n",
       "      <td>121.112396</td>\n",
       "      <td>Mole Crickets</td>\n",
       "    </tr>\n",
       "  </tbody>\n",
       "</table>\n",
       "</div>"
      ],
      "text/plain": [
       "       id user_login observed_on  \\\n",
       "0   56961       muir  2012-03-01   \n",
       "1   56964       muir  2012-03-01   \n",
       "2   77056     akrohn  2010-10-17   \n",
       "3  456868      tonyg  2013-06-05   \n",
       "4  481944      tonyg  2013-06-21   \n",
       "\n",
       "                                           image_url   latitude   longitude  \\\n",
       "0  https://static.inaturalist.org/photos/88639/me...   1.854370   10.052250   \n",
       "1  https://static.inaturalist.org/photos/88646/me...   1.854370   10.052250   \n",
       "2  https://static.inaturalist.org/photos/114209/m...   5.769016   -7.179026   \n",
       "3  https://static.inaturalist.org/photos/576493/m...  16.387541  121.112396   \n",
       "4  https://static.inaturalist.org/photos/609362/m...  16.387541  121.112396   \n",
       "\n",
       "                      common_name  \n",
       "0  African Brush-tailed Porcupine  \n",
       "1              Putty-nosed Monkey  \n",
       "2                Green Bush Viper  \n",
       "3                             NaN  \n",
       "4                   Mole Crickets  "
      ]
     },
     "execution_count": 54,
     "metadata": {},
     "output_type": "execute_result"
    }
   ],
   "source": [
    "website_dataset.head()"
   ]
  },
  {
   "cell_type": "code",
   "execution_count": null,
   "metadata": {
    "collapsed": true
   },
   "outputs": [],
   "source": []
  },
  {
   "cell_type": "code",
   "execution_count": null,
   "metadata": {
    "collapsed": true
   },
   "outputs": [],
   "source": []
  },
  {
   "cell_type": "code",
   "execution_count": null,
   "metadata": {
    "collapsed": true
   },
   "outputs": [],
   "source": [
    "website_dataset = website_dataset.transpose()\n",
    "\n",
    "pd.DataFrame.to_json(website_dataset,'./inaturalist_dump_trial.json')"
   ]
  },
  {
   "cell_type": "code",
   "execution_count": null,
   "metadata": {
    "collapsed": true
   },
   "outputs": [],
   "source": []
  },
  {
   "cell_type": "code",
   "execution_count": null,
   "metadata": {
    "collapsed": true
   },
   "outputs": [],
   "source": []
  }
 ],
 "metadata": {
  "kernelspec": {
   "display_name": "Python 3",
   "language": "python",
   "name": "python3"
  },
  "language_info": {
   "codemirror_mode": {
    "name": "ipython",
    "version": 3
   },
   "file_extension": ".py",
   "mimetype": "text/x-python",
   "name": "python",
   "nbconvert_exporter": "python",
   "pygments_lexer": "ipython3",
   "version": "3.5.2"
  },
  "toc": {
   "colors": {
    "hover_highlight": "#DAA520",
    "running_highlight": "#FF0000",
    "selected_highlight": "#FFD700"
   },
   "moveMenuLeft": true,
   "nav_menu": {
    "height": "47px",
    "width": "252px"
   },
   "navigate_menu": true,
   "number_sections": false,
   "sideBar": false,
   "threshold": 4,
   "toc_cell": false,
   "toc_position": {
    "height": "40px",
    "left": "919px",
    "right": "20px",
    "top": "592px",
    "width": "202px"
   },
   "toc_section_display": "none",
   "toc_window_display": true
  }
 },
 "nbformat": 4,
 "nbformat_minor": 2
}
