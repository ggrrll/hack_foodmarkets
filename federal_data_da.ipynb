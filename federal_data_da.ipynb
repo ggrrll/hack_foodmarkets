{
 "cells": [
  {
   "cell_type": "markdown",
   "metadata": {
    "run_control": {
     "frozen": false,
     "read_only": false
    }
   },
   "source": [
    "<center> \n",
    "    <b>\n",
    "        <big>\n",
    "            Data wrangling of food data from [federal food office](http://food.schoolofdata.ch/food-composition-ch/)\n",
    "        </big>\n",
    "    </b>\n",
    "</center> "
   ]
  },
  {
   "cell_type": "code",
   "execution_count": 2,
   "metadata": {
    "collapsed": true,
    "run_control": {
     "frozen": false,
     "read_only": false
    }
   },
   "outputs": [],
   "source": [
    "import pandas as pd\n",
    "import numpy as np\n",
    "import matplotlib.pyplot as plt\n",
    "import seaborn as sns\n",
    "\n",
    "import powerlaw\n",
    "\n",
    "sns.set_context('notebook')\n",
    "%matplotlib inline\n",
    "%config InlineBackend.figure_format = 'retina'"
   ]
  },
  {
   "cell_type": "markdown",
   "metadata": {
    "run_control": {
     "frozen": false,
     "read_only": false
    }
   },
   "source": [
    "# Data wrangling"
   ]
  },
  {
   "cell_type": "code",
   "execution_count": 6,
   "metadata": {
    "collapsed": false,
    "run_control": {
     "frozen": false,
     "read_only": false
    }
   },
   "outputs": [
    {
     "name": "stdout",
     "output_type": "stream",
     "text": [
      "(961, 202)\n"
     ]
    },
    {
     "data": {
      "text/html": [
       "<div>\n",
       "<table border=\"1\" class=\"dataframe\">\n",
       "  <thead>\n",
       "    <tr style=\"text-align: right;\">\n",
       "      <th></th>\n",
       "      <th>ID</th>\n",
       "      <th>ID V 4.0</th>\n",
       "      <th>ID SwissFIR</th>\n",
       "      <th>name D</th>\n",
       "      <th>synonyms D</th>\n",
       "      <th>name F</th>\n",
       "      <th>synonyms F</th>\n",
       "      <th>name I</th>\n",
       "      <th>synonyms I</th>\n",
       "      <th>name E</th>\n",
       "      <th>...</th>\n",
       "      <th>unit.35</th>\n",
       "      <th>matrix unit.35</th>\n",
       "      <th>value type.35</th>\n",
       "      <th>source.35</th>\n",
       "      <th>zinc (Zn)</th>\n",
       "      <th>unit.36</th>\n",
       "      <th>matrix unit.36</th>\n",
       "      <th>value type.36</th>\n",
       "      <th>source.36</th>\n",
       "      <th>record has changed</th>\n",
       "    </tr>\n",
       "  </thead>\n",
       "  <tbody>\n",
       "    <tr>\n",
       "      <th>0</th>\n",
       "      <td>10533</td>\n",
       "      <td>NaN</td>\n",
       "      <td>NaN</td>\n",
       "      <td>Agar Agar</td>\n",
       "      <td>NaN</td>\n",
       "      <td>Agar Agar</td>\n",
       "      <td>NaN</td>\n",
       "      <td>Agar Agar</td>\n",
       "      <td>NaN</td>\n",
       "      <td>Agar Agar</td>\n",
       "      <td>...</td>\n",
       "      <td>NaN</td>\n",
       "      <td>NaN</td>\n",
       "      <td>NaN</td>\n",
       "      <td>NaN</td>\n",
       "      <td>1.5</td>\n",
       "      <td>milligram</td>\n",
       "      <td>per 100g edible portion</td>\n",
       "      <td>weighted</td>\n",
       "      <td>1473</td>\n",
       "      <td>False</td>\n",
       "    </tr>\n",
       "    <tr>\n",
       "      <th>1</th>\n",
       "      <td>10536</td>\n",
       "      <td>NaN</td>\n",
       "      <td>NaN</td>\n",
       "      <td>Agavensirup</td>\n",
       "      <td>Agavendicksaft</td>\n",
       "      <td>Sirop d'agave</td>\n",
       "      <td>NaN</td>\n",
       "      <td>Sciroppo di agave</td>\n",
       "      <td>NaN</td>\n",
       "      <td>Agave syrup</td>\n",
       "      <td>...</td>\n",
       "      <td>NaN</td>\n",
       "      <td>NaN</td>\n",
       "      <td>NaN</td>\n",
       "      <td>NaN</td>\n",
       "      <td>NaN</td>\n",
       "      <td>NaN</td>\n",
       "      <td>NaN</td>\n",
       "      <td>NaN</td>\n",
       "      <td>NaN</td>\n",
       "      <td>True</td>\n",
       "    </tr>\n",
       "    <tr>\n",
       "      <th>2</th>\n",
       "      <td>1478</td>\n",
       "      <td>NaN</td>\n",
       "      <td>NaN</td>\n",
       "      <td>Älplermagronen, zubereitet</td>\n",
       "      <td>NaN</td>\n",
       "      <td>Macaronis de l'alpage, préparés</td>\n",
       "      <td>NaN</td>\n",
       "      <td>Maccheroni dell'alpigiano, preparati</td>\n",
       "      <td>NaN</td>\n",
       "      <td>Macaroni from the alps, prepared</td>\n",
       "      <td>...</td>\n",
       "      <td>microgram</td>\n",
       "      <td>per 100g edible portion</td>\n",
       "      <td>weighted</td>\n",
       "      <td>Computed value</td>\n",
       "      <td>0.8</td>\n",
       "      <td>milligram</td>\n",
       "      <td>per 100g edible portion</td>\n",
       "      <td>weighted</td>\n",
       "      <td>Computed value</td>\n",
       "      <td>True</td>\n",
       "    </tr>\n",
       "    <tr>\n",
       "      <th>3</th>\n",
       "      <td>868</td>\n",
       "      <td>3704.0</td>\n",
       "      <td>1001540.0</td>\n",
       "      <td>Amaretti (Mandelgebäck)</td>\n",
       "      <td>NaN</td>\n",
       "      <td>Amaretti (biscuits aux amandes)</td>\n",
       "      <td>NaN</td>\n",
       "      <td>Amaretti (biscotti alle mandorle)</td>\n",
       "      <td>NaN</td>\n",
       "      <td>Amaretti (Almond cookie)</td>\n",
       "      <td>...</td>\n",
       "      <td>microgram</td>\n",
       "      <td>per 100g edible portion</td>\n",
       "      <td>value type not known</td>\n",
       "      <td>Computed value</td>\n",
       "      <td>1.5</td>\n",
       "      <td>milligram</td>\n",
       "      <td>per 100g edible portion</td>\n",
       "      <td>weighted</td>\n",
       "      <td>Computed value</td>\n",
       "      <td>True</td>\n",
       "    </tr>\n",
       "    <tr>\n",
       "      <th>4</th>\n",
       "      <td>617</td>\n",
       "      <td>4274.0</td>\n",
       "      <td>1001162.0</td>\n",
       "      <td>Ananas, gezuckert (Konserve)</td>\n",
       "      <td>NaN</td>\n",
       "      <td>Ananas, sucré, conserve</td>\n",
       "      <td>NaN</td>\n",
       "      <td>Ananas, zuccherato, conserva</td>\n",
       "      <td>NaN</td>\n",
       "      <td>Pineapple, sweetened, canned</td>\n",
       "      <td>...</td>\n",
       "      <td>microgram</td>\n",
       "      <td>per 100g edible portion</td>\n",
       "      <td>weighted</td>\n",
       "      <td>22</td>\n",
       "      <td>0.1</td>\n",
       "      <td>milligram</td>\n",
       "      <td>per 100g edible portion</td>\n",
       "      <td>weighted</td>\n",
       "      <td>22</td>\n",
       "      <td>True</td>\n",
       "    </tr>\n",
       "  </tbody>\n",
       "</table>\n",
       "<p>5 rows × 202 columns</p>\n",
       "</div>"
      ],
      "text/plain": [
       "      ID  ID V 4.0  ID SwissFIR                        name D      synonyms D  \\\n",
       "0  10533       NaN          NaN                     Agar Agar             NaN   \n",
       "1  10536       NaN          NaN                   Agavensirup  Agavendicksaft   \n",
       "2   1478       NaN          NaN    Älplermagronen, zubereitet             NaN   \n",
       "3    868    3704.0    1001540.0       Amaretti (Mandelgebäck)             NaN   \n",
       "4    617    4274.0    1001162.0  Ananas, gezuckert (Konserve)             NaN   \n",
       "\n",
       "                            name F synonyms F  \\\n",
       "0                        Agar Agar        NaN   \n",
       "1                    Sirop d'agave        NaN   \n",
       "2  Macaronis de l'alpage, préparés        NaN   \n",
       "3  Amaretti (biscuits aux amandes)        NaN   \n",
       "4          Ananas, sucré, conserve        NaN   \n",
       "\n",
       "                                 name I synonyms I  \\\n",
       "0                             Agar Agar        NaN   \n",
       "1                     Sciroppo di agave        NaN   \n",
       "2  Maccheroni dell'alpigiano, preparati        NaN   \n",
       "3     Amaretti (biscotti alle mandorle)        NaN   \n",
       "4          Ananas, zuccherato, conserva        NaN   \n",
       "\n",
       "                             name E        ...            unit.35  \\\n",
       "0                         Agar Agar        ...                NaN   \n",
       "1                       Agave syrup        ...                NaN   \n",
       "2  Macaroni from the alps, prepared        ...          microgram   \n",
       "3          Amaretti (Almond cookie)        ...          microgram   \n",
       "4      Pineapple, sweetened, canned        ...          microgram   \n",
       "\n",
       "            matrix unit.35         value type.35       source.35 zinc (Zn)  \\\n",
       "0                      NaN                   NaN             NaN       1.5   \n",
       "1                      NaN                   NaN             NaN       NaN   \n",
       "2  per 100g edible portion              weighted  Computed value       0.8   \n",
       "3  per 100g edible portion  value type not known  Computed value       1.5   \n",
       "4  per 100g edible portion              weighted              22       0.1   \n",
       "\n",
       "     unit.36           matrix unit.36 value type.36       source.36  \\\n",
       "0  milligram  per 100g edible portion      weighted            1473   \n",
       "1        NaN                      NaN           NaN             NaN   \n",
       "2  milligram  per 100g edible portion      weighted  Computed value   \n",
       "3  milligram  per 100g edible portion      weighted  Computed value   \n",
       "4  milligram  per 100g edible portion      weighted              22   \n",
       "\n",
       "  record has changed  \n",
       "0              False  \n",
       "1               True  \n",
       "2               True  \n",
       "3               True  \n",
       "4               True  \n",
       "\n",
       "[5 rows x 202 columns]"
      ]
     },
     "execution_count": 6,
     "metadata": {},
     "output_type": "execute_result"
    }
   ],
   "source": [
    "official_data_df = pd.read_csv('./generic-foods.csv')\n",
    "print(official_data_df.shape)\n",
    "official_data_df.head()"
   ]
  },
  {
   "cell_type": "code",
   "execution_count": 11,
   "metadata": {
    "cell_style": "center",
    "collapsed": false,
    "run_control": {
     "frozen": false,
     "read_only": false
    }
   },
   "outputs": [],
   "source": [
    "# official_data_df.notnull().sum()"
   ]
  },
  {
   "cell_type": "code",
   "execution_count": null,
   "metadata": {
    "cell_style": "center",
    "collapsed": false,
    "run_control": {
     "frozen": false,
     "read_only": false
    }
   },
   "outputs": [],
   "source": [
    "# official_data_df.dtypes"
   ]
  },
  {
   "cell_type": "code",
   "execution_count": 13,
   "metadata": {
    "collapsed": false
   },
   "outputs": [
    {
     "data": {
      "text/plain": [
       "(961, 202)"
      ]
     },
     "execution_count": 13,
     "metadata": {},
     "output_type": "execute_result"
    }
   ],
   "source": [
    "official_data_df.shape"
   ]
  },
  {
   "cell_type": "markdown",
   "metadata": {
    "run_control": {
     "frozen": false,
     "read_only": false
    }
   },
   "source": [
    "###   json exporting   of useful features / rows"
   ]
  },
  {
   "cell_type": "code",
   "execution_count": 39,
   "metadata": {
    "collapsed": false,
    "run_control": {
     "frozen": false,
     "read_only": false
    }
   },
   "outputs": [
    {
     "name": "stdout",
     "output_type": "stream",
     "text": [
      "(240, 202)\n"
     ]
    }
   ],
   "source": [
    "website_dataset = official_data_df.loc[official_data_df['name E'].str.contains('raw') | \n",
    "                                       official_data_df['name E'].str.contains('fresh')]\n",
    "\n",
    "print(website_dataset.shape)\n",
    "# website_dataset.head()"
   ]
  },
  {
   "cell_type": "code",
   "execution_count": 52,
   "metadata": {
    "collapsed": true,
    "run_control": {
     "frozen": false,
     "read_only": false
    }
   },
   "outputs": [],
   "source": [
    "pd.DataFrame.to_json(website_dataset.transpose(),'./federal_dump_trial.json')"
   ]
  },
  {
   "cell_type": "markdown",
   "metadata": {
    "run_control": {
     "frozen": false,
     "read_only": false
    }
   },
   "source": [
    "# Descriptive Analysis "
   ]
  },
  {
   "cell_type": "code",
   "execution_count": null,
   "metadata": {
    "collapsed": true,
    "run_control": {
     "frozen": false,
     "read_only": false
    }
   },
   "outputs": [],
   "source": []
  }
 ],
 "metadata": {
  "kernelspec": {
   "display_name": "Python 3",
   "language": "python",
   "name": "python3"
  },
  "language_info": {
   "codemirror_mode": {
    "name": "ipython",
    "version": 3
   },
   "file_extension": ".py",
   "mimetype": "text/x-python",
   "name": "python",
   "nbconvert_exporter": "python",
   "pygments_lexer": "ipython3",
   "version": "3.5.2"
  },
  "toc": {
   "colors": {
    "hover_highlight": "#DAA520",
    "running_highlight": "#FF0000",
    "selected_highlight": "#FFD700"
   },
   "moveMenuLeft": true,
   "nav_menu": {
    "height": "65px",
    "width": "252px"
   },
   "navigate_menu": true,
   "number_sections": false,
   "sideBar": false,
   "threshold": 4,
   "toc_cell": false,
   "toc_position": {
    "height": "125px",
    "left": "901px",
    "right": "20px",
    "top": "117px",
    "width": "198px"
   },
   "toc_section_display": "none",
   "toc_window_display": true
  }
 },
 "nbformat": 4,
 "nbformat_minor": 2
}
