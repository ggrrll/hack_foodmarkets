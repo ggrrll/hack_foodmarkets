{
 "cells": [
  {
   "cell_type": "markdown",
   "metadata": {
    "run_control": {
     "frozen": false,
     "read_only": false
    }
   },
   "source": [
    "<center> \n",
    "    <b>\n",
    "        <big>\n",
    "            Exploratory Data analysis of our data on [inaturalist](http://www.inaturalist.org)\n",
    "        </big>\n",
    "    </b>\n",
    "</center> "
   ]
  },
  {
   "cell_type": "code",
   "execution_count": 2,
   "metadata": {
    "collapsed": true
   },
   "outputs": [],
   "source": [
    "import pandas as pd\n",
    "import numpy as np\n",
    "import matplotlib.pyplot as plt\n",
    "import seaborn as sns\n",
    "\n",
    "import powerlaw\n",
    "\n",
    "sns.set_context('notebook')\n",
    "%matplotlib inline\n",
    "%config InlineBackend.figure_format = 'retina'"
   ]
  },
  {
   "cell_type": "markdown",
   "metadata": {},
   "source": [
    "# Loading data"
   ]
  },
  {
   "cell_type": "code",
   "execution_count": 10,
   "metadata": {
    "collapsed": false
   },
   "outputs": [
    {
     "name": "stdout",
     "output_type": "stream",
     "text": [
      "(208, 41)\n"
     ]
    },
    {
     "data": {
      "text/html": [
       "<div>\n",
       "<table border=\"1\" class=\"dataframe\">\n",
       "  <thead>\n",
       "    <tr style=\"text-align: right;\">\n",
       "      <th></th>\n",
       "      <th>id</th>\n",
       "      <th>observed_on_string</th>\n",
       "      <th>observed_on</th>\n",
       "      <th>time_observed_at</th>\n",
       "      <th>time_zone</th>\n",
       "      <th>out_of_range</th>\n",
       "      <th>user_id</th>\n",
       "      <th>user_login</th>\n",
       "      <th>created_at</th>\n",
       "      <th>updated_at</th>\n",
       "      <th>...</th>\n",
       "      <th>iconic_taxon_name</th>\n",
       "      <th>taxon_id</th>\n",
       "      <th>field:how do you rate the level of hygiene of the market place</th>\n",
       "      <th>field:what is the common name of the product in english</th>\n",
       "      <th>field:what is the geographical origin of the product: local, national or international</th>\n",
       "      <th>field:what is the local name of the product</th>\n",
       "      <th>field:what is the name of the food market you are visiting</th>\n",
       "      <th>field:what is the nutritional value and/or health benefits (health claims) of the product</th>\n",
       "      <th>field:what is the price of the product</th>\n",
       "      <th>field:what is the scientific name of the product</th>\n",
       "    </tr>\n",
       "  </thead>\n",
       "  <tbody>\n",
       "    <tr>\n",
       "      <th>0</th>\n",
       "      <td>56961</td>\n",
       "      <td>March 01, 2012 14:15</td>\n",
       "      <td>2012-03-01</td>\n",
       "      <td>2012-03-01 14:15:00 -0500</td>\n",
       "      <td>Eastern Time (US &amp; Canada)</td>\n",
       "      <td>False</td>\n",
       "      <td>1000</td>\n",
       "      <td>muir</td>\n",
       "      <td>2012-03-10 19:04:00 -0500</td>\n",
       "      <td>2016-12-19 12:58:08 -0500</td>\n",
       "      <td>...</td>\n",
       "      <td>Mammalia</td>\n",
       "      <td>44181.0</td>\n",
       "      <td>NaN</td>\n",
       "      <td>NaN</td>\n",
       "      <td>NaN</td>\n",
       "      <td>NaN</td>\n",
       "      <td>NaN</td>\n",
       "      <td>NaN</td>\n",
       "      <td>NaN</td>\n",
       "      <td>NaN</td>\n",
       "    </tr>\n",
       "    <tr>\n",
       "      <th>1</th>\n",
       "      <td>56964</td>\n",
       "      <td>March 01, 2012 14:14</td>\n",
       "      <td>2012-03-01</td>\n",
       "      <td>2012-03-01 14:14:00 -0500</td>\n",
       "      <td>Eastern Time (US &amp; Canada)</td>\n",
       "      <td>False</td>\n",
       "      <td>1000</td>\n",
       "      <td>muir</td>\n",
       "      <td>2012-03-10 19:04:01 -0500</td>\n",
       "      <td>2016-12-19 12:56:46 -0500</td>\n",
       "      <td>...</td>\n",
       "      <td>Mammalia</td>\n",
       "      <td>43485.0</td>\n",
       "      <td>NaN</td>\n",
       "      <td>NaN</td>\n",
       "      <td>NaN</td>\n",
       "      <td>NaN</td>\n",
       "      <td>NaN</td>\n",
       "      <td>NaN</td>\n",
       "      <td>NaN</td>\n",
       "      <td>NaN</td>\n",
       "    </tr>\n",
       "    <tr>\n",
       "      <th>2</th>\n",
       "      <td>77056</td>\n",
       "      <td>2010-10-17</td>\n",
       "      <td>2010-10-17</td>\n",
       "      <td>NaN</td>\n",
       "      <td>Pacific Time (US &amp; Canada)</td>\n",
       "      <td>False</td>\n",
       "      <td>6581</td>\n",
       "      <td>akrohn</td>\n",
       "      <td>2012-05-10 17:49:53 -0400</td>\n",
       "      <td>2017-02-04 06:03:33 -0500</td>\n",
       "      <td>...</td>\n",
       "      <td>Reptilia</td>\n",
       "      <td>30882.0</td>\n",
       "      <td>NaN</td>\n",
       "      <td>NaN</td>\n",
       "      <td>NaN</td>\n",
       "      <td>NaN</td>\n",
       "      <td>NaN</td>\n",
       "      <td>NaN</td>\n",
       "      <td>NaN</td>\n",
       "      <td>NaN</td>\n",
       "    </tr>\n",
       "    <tr>\n",
       "      <th>3</th>\n",
       "      <td>456868</td>\n",
       "      <td>2013-06-05</td>\n",
       "      <td>2013-06-05</td>\n",
       "      <td>NaN</td>\n",
       "      <td>Central Time (US &amp; Canada)</td>\n",
       "      <td>NaN</td>\n",
       "      <td>1639</td>\n",
       "      <td>tonyg</td>\n",
       "      <td>2013-11-14 09:55:48 -0500</td>\n",
       "      <td>2016-12-19 12:52:26 -0500</td>\n",
       "      <td>...</td>\n",
       "      <td>Insecta</td>\n",
       "      <td>326866.0</td>\n",
       "      <td>NaN</td>\n",
       "      <td>NaN</td>\n",
       "      <td>NaN</td>\n",
       "      <td>NaN</td>\n",
       "      <td>NaN</td>\n",
       "      <td>NaN</td>\n",
       "      <td>NaN</td>\n",
       "      <td>NaN</td>\n",
       "    </tr>\n",
       "    <tr>\n",
       "      <th>4</th>\n",
       "      <td>481944</td>\n",
       "      <td>2013-06-21</td>\n",
       "      <td>2013-06-21</td>\n",
       "      <td>NaN</td>\n",
       "      <td>Central Time (US &amp; Canada)</td>\n",
       "      <td>NaN</td>\n",
       "      <td>1639</td>\n",
       "      <td>tonyg</td>\n",
       "      <td>2013-12-15 16:59:19 -0500</td>\n",
       "      <td>2016-12-20 04:22:50 -0500</td>\n",
       "      <td>...</td>\n",
       "      <td>Insecta</td>\n",
       "      <td>71220.0</td>\n",
       "      <td>NaN</td>\n",
       "      <td>NaN</td>\n",
       "      <td>NaN</td>\n",
       "      <td>NaN</td>\n",
       "      <td>NaN</td>\n",
       "      <td>NaN</td>\n",
       "      <td>NaN</td>\n",
       "      <td>NaN</td>\n",
       "    </tr>\n",
       "  </tbody>\n",
       "</table>\n",
       "<p>5 rows × 41 columns</p>\n",
       "</div>"
      ],
      "text/plain": [
       "       id    observed_on_string observed_on           time_observed_at  \\\n",
       "0   56961  March 01, 2012 14:15  2012-03-01  2012-03-01 14:15:00 -0500   \n",
       "1   56964  March 01, 2012 14:14  2012-03-01  2012-03-01 14:14:00 -0500   \n",
       "2   77056            2010-10-17  2010-10-17                        NaN   \n",
       "3  456868            2013-06-05  2013-06-05                        NaN   \n",
       "4  481944            2013-06-21  2013-06-21                        NaN   \n",
       "\n",
       "                    time_zone out_of_range  user_id user_login  \\\n",
       "0  Eastern Time (US & Canada)        False     1000       muir   \n",
       "1  Eastern Time (US & Canada)        False     1000       muir   \n",
       "2  Pacific Time (US & Canada)        False     6581     akrohn   \n",
       "3  Central Time (US & Canada)          NaN     1639      tonyg   \n",
       "4  Central Time (US & Canada)          NaN     1639      tonyg   \n",
       "\n",
       "                  created_at                 updated_at  \\\n",
       "0  2012-03-10 19:04:00 -0500  2016-12-19 12:58:08 -0500   \n",
       "1  2012-03-10 19:04:01 -0500  2016-12-19 12:56:46 -0500   \n",
       "2  2012-05-10 17:49:53 -0400  2017-02-04 06:03:33 -0500   \n",
       "3  2013-11-14 09:55:48 -0500  2016-12-19 12:52:26 -0500   \n",
       "4  2013-12-15 16:59:19 -0500  2016-12-20 04:22:50 -0500   \n",
       "\n",
       "                        ...                        iconic_taxon_name  \\\n",
       "0                       ...                                 Mammalia   \n",
       "1                       ...                                 Mammalia   \n",
       "2                       ...                                 Reptilia   \n",
       "3                       ...                                  Insecta   \n",
       "4                       ...                                  Insecta   \n",
       "\n",
       "   taxon_id field:how do you rate the level of hygiene of the market place  \\\n",
       "0   44181.0                                                NaN               \n",
       "1   43485.0                                                NaN               \n",
       "2   30882.0                                                NaN               \n",
       "3  326866.0                                                NaN               \n",
       "4   71220.0                                                NaN               \n",
       "\n",
       "  field:what is the common name of the product in english  \\\n",
       "0                                                NaN        \n",
       "1                                                NaN        \n",
       "2                                                NaN        \n",
       "3                                                NaN        \n",
       "4                                                NaN        \n",
       "\n",
       "  field:what is the geographical origin of the product: local, national or international   \\\n",
       "0                                                NaN                                        \n",
       "1                                                NaN                                        \n",
       "2                                                NaN                                        \n",
       "3                                                NaN                                        \n",
       "4                                                NaN                                        \n",
       "\n",
       "  field:what is the local name of the product  \\\n",
       "0                                         NaN   \n",
       "1                                         NaN   \n",
       "2                                         NaN   \n",
       "3                                         NaN   \n",
       "4                                         NaN   \n",
       "\n",
       "  field:what is the name of the food market you are visiting  \\\n",
       "0                                                NaN           \n",
       "1                                                NaN           \n",
       "2                                                NaN           \n",
       "3                                                NaN           \n",
       "4                                                NaN           \n",
       "\n",
       "   field:what is the nutritional value and/or health benefits (health claims) of the product  \\\n",
       "0                                                NaN                                           \n",
       "1                                                NaN                                           \n",
       "2                                                NaN                                           \n",
       "3                                                NaN                                           \n",
       "4                                                NaN                                           \n",
       "\n",
       "   field:what is the price of the product  \\\n",
       "0                                     NaN   \n",
       "1                                     NaN   \n",
       "2                                     NaN   \n",
       "3                                     NaN   \n",
       "4                                     NaN   \n",
       "\n",
       "  field:what is the scientific name of the product  \n",
       "0                                              NaN  \n",
       "1                                              NaN  \n",
       "2                                              NaN  \n",
       "3                                              NaN  \n",
       "4                                              NaN  \n",
       "\n",
       "[5 rows x 41 columns]"
      ]
     },
     "execution_count": 10,
     "metadata": {},
     "output_type": "execute_result"
    }
   ],
   "source": [
    "first_dump = pd.read_csv('./inaturalist_dump.csv')\n",
    "print(first_dump.shape)\n",
    "first_dump.head()"
   ]
  },
  {
   "cell_type": "code",
   "execution_count": 5,
   "metadata": {
    "cell_style": "split",
    "collapsed": false
   },
   "outputs": [
    {
     "data": {
      "text/plain": [
       "id                                    0\n",
       "observed_on_string                   29\n",
       "observed_on                          30\n",
       "time_observed_at                    192\n",
       "time_zone                             0\n",
       "out_of_range                        194\n",
       "user_id                               0\n",
       "user_login                            0\n",
       "created_at                            0\n",
       "updated_at                            0\n",
       "quality_grade                         0\n",
       "license                              11\n",
       "url                                   0\n",
       "image_url                             0\n",
       "tag_list                            197\n",
       "description                          24\n",
       "id_please                             0\n",
       "num_identification_agreements         0\n",
       "num_identification_disagreements      0\n",
       "captive_cultivated                    0\n",
       "oauth_application_id                206\n",
       "place_guess                           2\n",
       "latitude                              1\n",
       "longitude                             1\n",
       "positional_accuracy                 111\n",
       "private_place_guess                 208\n",
       "private_latitude                    208\n",
       "private_longitude                   208\n",
       "private_positional_accuracy         208\n",
       "geoprivacy                          208\n",
       "positioning_method                  206\n",
       "positioning_device                  195\n",
       "species_guess                         2\n",
       "scientific_name                       4\n",
       "common_name                          62\n",
       "iconic_taxon_name                     3\n",
       "taxon_id                              3\n",
       "dtype: int64"
      ]
     },
     "execution_count": 5,
     "metadata": {},
     "output_type": "execute_result"
    }
   ],
   "source": [
    "first_dump.isnull().sum()"
   ]
  },
  {
   "cell_type": "code",
   "execution_count": 7,
   "metadata": {
    "cell_style": "split",
    "collapsed": false
   },
   "outputs": [
    {
     "data": {
      "text/plain": [
       "id                                    int64\n",
       "observed_on_string                   object\n",
       "observed_on                          object\n",
       "time_observed_at                     object\n",
       "time_zone                            object\n",
       "out_of_range                         object\n",
       "user_id                               int64\n",
       "user_login                           object\n",
       "created_at                           object\n",
       "updated_at                           object\n",
       "quality_grade                        object\n",
       "license                              object\n",
       "url                                  object\n",
       "image_url                            object\n",
       "tag_list                             object\n",
       "description                          object\n",
       "id_please                              bool\n",
       "num_identification_agreements         int64\n",
       "num_identification_disagreements      int64\n",
       "captive_cultivated                     bool\n",
       "oauth_application_id                float64\n",
       "place_guess                          object\n",
       "latitude                            float64\n",
       "longitude                           float64\n",
       "positional_accuracy                 float64\n",
       "private_place_guess                 float64\n",
       "private_latitude                    float64\n",
       "private_longitude                   float64\n",
       "private_positional_accuracy         float64\n",
       "geoprivacy                          float64\n",
       "positioning_method                   object\n",
       "positioning_device                   object\n",
       "species_guess                        object\n",
       "scientific_name                      object\n",
       "common_name                          object\n",
       "iconic_taxon_name                    object\n",
       "taxon_id                            float64\n",
       "dtype: object"
      ]
     },
     "execution_count": 7,
     "metadata": {},
     "output_type": "execute_result"
    }
   ],
   "source": [
    "first_dump.dtypes"
   ]
  },
  {
   "cell_type": "markdown",
   "metadata": {},
   "source": [
    "## selecting useful features "
   ]
  },
  {
   "cell_type": "code",
   "execution_count": 9,
   "metadata": {
    "collapsed": false
   },
   "outputs": [],
   "source": [
    "website_dataset = first_dump[['id','observed_on']]"
   ]
  },
  {
   "cell_type": "markdown",
   "metadata": {},
   "source": [
    "## exporting to json "
   ]
  },
  {
   "cell_type": "code",
   "execution_count": null,
   "metadata": {
    "collapsed": true
   },
   "outputs": [],
   "source": []
  },
  {
   "cell_type": "code",
   "execution_count": null,
   "metadata": {
    "collapsed": true
   },
   "outputs": [],
   "source": []
  }
 ],
 "metadata": {
  "kernelspec": {
   "display_name": "Python 3",
   "language": "python",
   "name": "python3"
  },
  "language_info": {
   "codemirror_mode": {
    "name": "ipython",
    "version": 3
   },
   "file_extension": ".py",
   "mimetype": "text/x-python",
   "name": "python",
   "nbconvert_exporter": "python",
   "pygments_lexer": "ipython3",
   "version": "3.5.2"
  },
  "toc": {
   "colors": {
    "hover_highlight": "#DAA520",
    "running_highlight": "#FF0000",
    "selected_highlight": "#FFD700"
   },
   "moveMenuLeft": true,
   "nav_menu": {
    "height": "65px",
    "width": "252px"
   },
   "navigate_menu": true,
   "number_sections": false,
   "sideBar": true,
   "threshold": 4,
   "toc_cell": false,
   "toc_section_display": "block",
   "toc_window_display": false
  }
 },
 "nbformat": 4,
 "nbformat_minor": 2
}
